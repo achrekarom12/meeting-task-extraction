{
 "cells": [
  {
   "cell_type": "markdown",
   "metadata": {},
   "source": [
    "### Custom NER Model"
   ]
  },
  {
   "cell_type": "code",
   "execution_count": 1,
   "metadata": {},
   "outputs": [],
   "source": [
    "import spacy\n",
    "from spacy.tokens import DocBin\n",
    "from tqdm import tqdm\n",
    "\n",
    "nlp = spacy.blank(\"en\") \n",
    "db = DocBin()"
   ]
  },
  {
   "cell_type": "code",
   "execution_count": 2,
   "metadata": {},
   "outputs": [],
   "source": [
    "import json\n",
    "f = open('./annotations.json')\n",
    "TRAIN_DATA = json.load(f)"
   ]
  },
  {
   "cell_type": "code",
   "execution_count": 3,
   "metadata": {},
   "outputs": [
    {
     "name": "stderr",
     "output_type": "stream",
     "text": [
      "100%|██████████| 904/904 [00:00<00:00, 14143.99it/s]\n"
     ]
    }
   ],
   "source": [
    "for text, annot in tqdm(TRAIN_DATA['annotations']): \n",
    "    doc = nlp.make_doc(text) \n",
    "    ents = []\n",
    "    for start, end, label in annot[\"entities\"]:\n",
    "        span = doc.char_span(start, end, label=label, alignment_mode=\"contract\")\n",
    "        if span is None:\n",
    "            print(\"Skipping entity\")\n",
    "        else:\n",
    "            ents.append(span)\n",
    "    doc.ents = ents \n",
    "    db.add(doc)\n",
    "\n",
    "db.to_disk(\"./training_data.spacy\") "
   ]
  },
  {
   "cell_type": "code",
   "execution_count": 4,
   "metadata": {},
   "outputs": [
    {
     "name": "stdout",
     "output_type": "stream",
     "text": [
      "\u001b[38;5;3m⚠ To generate a more effective transformer-based config (GPU-only),\n",
      "install the spacy-transformers package and re-run this command. The config\n",
      "generated now does not use transformers.\u001b[0m\n",
      "\u001b[38;5;4mℹ Generated config template specific for your use case\u001b[0m\n",
      "- Language: en\n",
      "- Pipeline: ner\n",
      "- Optimize for: efficiency\n",
      "- Hardware: CPU\n",
      "- Transformer: None\n",
      "\u001b[38;5;2m✔ Auto-filled config with all values\u001b[0m\n",
      "\u001b[38;5;2m✔ Saved config\u001b[0m\n",
      "config.cfg\n",
      "You can now add your data and train your pipeline:\n",
      "python -m spacy train config.cfg --paths.train ./train.spacy --paths.dev ./dev.spacy\n"
     ]
    }
   ],
   "source": [
    "!python -m spacy init config config.cfg --lang en --pipeline ner --optimize efficiency"
   ]
  },
  {
   "cell_type": "code",
   "execution_count": 5,
   "metadata": {},
   "outputs": [
    {
     "name": "stdout",
     "output_type": "stream",
     "text": [
      "\u001b[38;5;4mℹ Saving to output directory: .\u001b[0m\n",
      "\u001b[38;5;4mℹ Using CPU\u001b[0m\n",
      "\u001b[38;5;4mℹ To switch to GPU 0, use the option: --gpu-id 0\u001b[0m\n",
      "\u001b[1m\n",
      "=========================== Initializing pipeline ===========================\u001b[0m\n",
      "\u001b[38;5;2m✔ Initialized pipeline\u001b[0m\n",
      "\u001b[1m\n",
      "============================= Training pipeline =============================\u001b[0m\n",
      "\u001b[38;5;4mℹ Pipeline: ['tok2vec', 'ner']\u001b[0m\n",
      "\u001b[38;5;4mℹ Initial learn rate: 0.001\u001b[0m\n",
      "E    #       LOSS TOK2VEC  LOSS NER  ENTS_F  ENTS_P  ENTS_R  SCORE \n",
      "---  ------  ------------  --------  ------  ------  ------  ------\n",
      "  0       0          0.00     56.60   16.55    9.92   49.72    0.17\n",
      "  2     200        108.90   2410.56   95.16   95.19   95.13    0.95\n",
      "  5     400         55.21    597.13   95.49   95.52   95.46    0.95\n",
      "  8     600         68.00    679.99   96.27   96.19   96.35    0.96\n",
      " 13     800        105.90    761.19   96.95   97.11   96.79    0.97\n",
      " 18    1000        123.31    838.38   97.01   96.96   97.07    0.97\n",
      " 24    1200        160.96    963.26   97.34   97.61   97.07    0.97\n",
      " 32    1400        583.05   1140.72   97.45   97.61   97.29    0.97\n",
      " 42    1600        420.03   1150.75   97.54   97.41   97.68    0.98\n",
      " 54    1800       1404.02   1529.86   98.11   98.39   97.84    0.98\n",
      " 68    2000        560.29   1426.08   98.09   98.33   97.84    0.98\n",
      " 85    2200        843.82   1693.03   98.26   98.07   98.45    0.98\n",
      "107    2400        791.51   1820.33   98.25   98.50   98.01    0.98\n",
      "129    2600        597.69   1816.46   98.21   98.02   98.40    0.98\n",
      "151    2800        721.77   1860.94   98.09   98.07   98.12    0.98\n",
      "173    3000        460.82   1780.62   98.29   98.29   98.29    0.98\n",
      "195    3200        689.41   1961.25   98.42   98.67   98.17    0.98\n",
      "218    3400        616.23   1706.50   98.40   98.45   98.34    0.98\n",
      "240    3600        538.08   1765.05   98.32   98.13   98.51    0.98\n",
      "262    3800        412.57   1640.80   98.50   98.61   98.40    0.99\n",
      "284    4000        631.02   1661.74   98.56   98.62   98.51    0.99\n",
      "307    4200        385.85   1549.32   98.56   98.62   98.51    0.99\n",
      "329    4400        683.89   1588.24   98.56   98.67   98.45    0.99\n",
      "351    4600        638.19   1617.09   98.51   98.51   98.51    0.99\n",
      "373    4800        395.80   1613.13   98.36   98.66   98.06    0.98\n",
      "395    5000        467.24   1536.80   98.45   98.50   98.40    0.98\n",
      "418    5200        819.93   1597.30   98.56   98.51   98.62    0.99\n",
      "440    5400        386.37   1520.14   98.53   98.61   98.45    0.99\n",
      "462    5600        458.71   1499.45   98.39   98.61   98.17    0.98\n",
      "484    5800        518.12   1511.21   98.56   98.62   98.51    0.99\n",
      "507    6000        346.48   1526.67   98.50   98.78   98.23    0.99\n",
      "529    6200        491.87   1492.14   98.50   98.61   98.40    0.99\n",
      "551    6400        723.78   1465.83   98.56   98.78   98.34    0.99\n",
      "573    6600        530.80   1464.30   98.59   98.56   98.62    0.99\n",
      "595    6800        675.42   1426.90   98.51   98.56   98.45    0.99\n",
      "618    7000        517.49   1578.49   98.59   98.51   98.67    0.99\n",
      "640    7200        596.75   1529.89   98.54   98.45   98.62    0.99\n",
      "662    7400        421.91   1487.17   98.56   98.78   98.34    0.99\n",
      "684    7600        471.97   1501.90   98.54   98.45   98.62    0.99\n",
      "707    7800        427.36   1449.68   98.42   98.45   98.40    0.98\n",
      "729    8000        304.20   1476.64   98.56   98.83   98.29    0.99\n",
      "751    8200        612.47   1485.37   98.51   98.45   98.56    0.99\n",
      "773    8400        550.23   1425.66   98.56   98.67   98.45    0.99\n",
      "795    8600        803.21   1496.06   98.59   98.51   98.67    0.99\n",
      "\u001b[38;5;2m✔ Saved pipeline to output directory\u001b[0m\n",
      "model-last\n"
     ]
    }
   ],
   "source": [
    "!python -m spacy train config.cfg --output ./ --paths.train ./training_data.spacy --paths.dev ./training_data.spacy"
   ]
  },
  {
   "cell_type": "code",
   "execution_count": 6,
   "metadata": {},
   "outputs": [],
   "source": [
    "nlp_ner = spacy.load(\"./model-best\")"
   ]
  },
  {
   "cell_type": "code",
   "execution_count": 9,
   "metadata": {},
   "outputs": [],
   "source": [
    "doc = nlp_ner(\"Can you please proofread my article on NLP, Alicia?\")"
   ]
  },
  {
   "cell_type": "code",
   "execution_count": 10,
   "metadata": {},
   "outputs": [
    {
     "data": {
      "text/html": [
       "<span class=\"tex2jax_ignore\"><div class=\"entities\" style=\"line-height: 2.5; direction: ltr\">Can you please \n",
       "<mark class=\"entity\" style=\"background: #ddd; padding: 0.45em 0.6em; margin: 0 0.25em; line-height: 1; border-radius: 0.35em;\">\n",
       "    proofread my article on NLP\n",
       "    <span style=\"font-size: 0.8em; font-weight: bold; line-height: 1; border-radius: 0.35em; vertical-align: middle; margin-left: 0.5rem\">TASK</span>\n",
       "</mark>\n",
       ", \n",
       "<mark class=\"entity\" style=\"background: #ddd; padding: 0.45em 0.6em; margin: 0 0.25em; line-height: 1; border-radius: 0.35em;\">\n",
       "    Alicia\n",
       "    <span style=\"font-size: 0.8em; font-weight: bold; line-height: 1; border-radius: 0.35em; vertical-align: middle; margin-left: 0.5rem\">ASSIGNEE</span>\n",
       "</mark>\n",
       "?</div></span>"
      ],
      "text/plain": [
       "<IPython.core.display.HTML object>"
      ]
     },
     "metadata": {},
     "output_type": "display_data"
    }
   ],
   "source": [
    "spacy.displacy.render(doc, style=\"ent\", jupyter=True) # display in Jupyter"
   ]
  },
  {
   "cell_type": "code",
   "execution_count": 38,
   "metadata": {},
   "outputs": [],
   "source": [
    "import pandas as pd"
   ]
  },
  {
   "cell_type": "code",
   "execution_count": 39,
   "metadata": {},
   "outputs": [
    {
     "data": {
      "text/html": [
       "<div>\n",
       "<style scoped>\n",
       "    .dataframe tbody tr th:only-of-type {\n",
       "        vertical-align: middle;\n",
       "    }\n",
       "\n",
       "    .dataframe tbody tr th {\n",
       "        vertical-align: top;\n",
       "    }\n",
       "\n",
       "    .dataframe thead th {\n",
       "        text-align: right;\n",
       "    }\n",
       "</style>\n",
       "<table border=\"1\" class=\"dataframe\">\n",
       "  <thead>\n",
       "    <tr style=\"text-align: right;\">\n",
       "      <th></th>\n",
       "      <th>sentence</th>\n",
       "    </tr>\n",
       "  </thead>\n",
       "  <tbody>\n",
       "    <tr>\n",
       "      <th>0</th>\n",
       "      <td>Sarah, please review the report</td>\n",
       "    </tr>\n",
       "    <tr>\n",
       "      <th>1</th>\n",
       "      <td>John, update the presentation slides</td>\n",
       "    </tr>\n",
       "    <tr>\n",
       "      <th>2</th>\n",
       "      <td>Michael, complete the coding tasks</td>\n",
       "    </tr>\n",
       "    <tr>\n",
       "      <th>3</th>\n",
       "      <td>Emily, prepare the meeting agenda</td>\n",
       "    </tr>\n",
       "    <tr>\n",
       "      <th>4</th>\n",
       "      <td>David, proofread the document</td>\n",
       "    </tr>\n",
       "  </tbody>\n",
       "</table>\n",
       "</div>"
      ],
      "text/plain": [
       "                               sentence\n",
       "0       Sarah, please review the report\n",
       "1  John, update the presentation slides\n",
       "2    Michael, complete the coding tasks\n",
       "3     Emily, prepare the meeting agenda\n",
       "4         David, proofread the document"
      ]
     },
     "execution_count": 39,
     "metadata": {},
     "output_type": "execute_result"
    }
   ],
   "source": [
    "df = pd.read_csv('./tasks.csv')\n",
    "df.head()"
   ]
  },
  {
   "cell_type": "code",
   "execution_count": 40,
   "metadata": {},
   "outputs": [
    {
     "data": {
      "text/html": [
       "<div>\n",
       "<style scoped>\n",
       "    .dataframe tbody tr th:only-of-type {\n",
       "        vertical-align: middle;\n",
       "    }\n",
       "\n",
       "    .dataframe tbody tr th {\n",
       "        vertical-align: top;\n",
       "    }\n",
       "\n",
       "    .dataframe thead th {\n",
       "        text-align: right;\n",
       "    }\n",
       "</style>\n",
       "<table border=\"1\" class=\"dataframe\">\n",
       "  <thead>\n",
       "    <tr style=\"text-align: right;\">\n",
       "      <th></th>\n",
       "      <th>sentence</th>\n",
       "      <th>doc</th>\n",
       "      <th>task</th>\n",
       "      <th>assignee</th>\n",
       "    </tr>\n",
       "  </thead>\n",
       "  <tbody>\n",
       "    <tr>\n",
       "      <th>0</th>\n",
       "      <td>Sarah, please review the report</td>\n",
       "      <td>(Sarah, ,, please, review, the, report)</td>\n",
       "      <td>[please review the report]</td>\n",
       "      <td>[Sarah]</td>\n",
       "    </tr>\n",
       "    <tr>\n",
       "      <th>1</th>\n",
       "      <td>John, update the presentation slides</td>\n",
       "      <td>(John, ,, update, the, presentation, slides)</td>\n",
       "      <td>[update the presentation slides]</td>\n",
       "      <td>[John]</td>\n",
       "    </tr>\n",
       "    <tr>\n",
       "      <th>2</th>\n",
       "      <td>Michael, complete the coding tasks</td>\n",
       "      <td>(Michael, ,, complete, the, coding, tasks)</td>\n",
       "      <td>[complete the coding tasks]</td>\n",
       "      <td>[Michael]</td>\n",
       "    </tr>\n",
       "    <tr>\n",
       "      <th>3</th>\n",
       "      <td>Emily, prepare the meeting agenda</td>\n",
       "      <td>(Emily, ,, prepare, the, meeting, agenda)</td>\n",
       "      <td>[prepare the meeting agenda]</td>\n",
       "      <td>[Emily]</td>\n",
       "    </tr>\n",
       "    <tr>\n",
       "      <th>4</th>\n",
       "      <td>David, proofread the document</td>\n",
       "      <td>(David, ,, proofread, the, document)</td>\n",
       "      <td>[proofread the document]</td>\n",
       "      <td>[David]</td>\n",
       "    </tr>\n",
       "  </tbody>\n",
       "</table>\n",
       "</div>"
      ],
      "text/plain": [
       "                               sentence  \\\n",
       "0       Sarah, please review the report   \n",
       "1  John, update the presentation slides   \n",
       "2    Michael, complete the coding tasks   \n",
       "3     Emily, prepare the meeting agenda   \n",
       "4         David, proofread the document   \n",
       "\n",
       "                                            doc  \\\n",
       "0       (Sarah, ,, please, review, the, report)   \n",
       "1  (John, ,, update, the, presentation, slides)   \n",
       "2    (Michael, ,, complete, the, coding, tasks)   \n",
       "3     (Emily, ,, prepare, the, meeting, agenda)   \n",
       "4          (David, ,, proofread, the, document)   \n",
       "\n",
       "                               task   assignee  \n",
       "0        [please review the report]    [Sarah]  \n",
       "1  [update the presentation slides]     [John]  \n",
       "2       [complete the coding tasks]  [Michael]  \n",
       "3      [prepare the meeting agenda]    [Emily]  \n",
       "4          [proofread the document]    [David]  "
      ]
     },
     "execution_count": 40,
     "metadata": {},
     "output_type": "execute_result"
    }
   ],
   "source": [
    "# Apply the NER model to the text column and separate out the TASK and ASSIGNEE entites\n",
    "df['doc'] = df['sentence'].apply(nlp_ner)\n",
    "df['task'] = df['doc'].apply(lambda x: [ent.text for ent in x.ents if ent.label_ == 'TASK'])\n",
    "df['assignee'] = df['doc'].apply(lambda x: [ent.text for ent in x.ents if ent.label_ == 'ASSIGNEE'])\n",
    "df.head()"
   ]
  },
  {
   "cell_type": "code",
   "execution_count": 41,
   "metadata": {},
   "outputs": [],
   "source": [
    "# Drop the doc column\n",
    "df = df.drop(columns=['doc'])"
   ]
  },
  {
   "cell_type": "code",
   "execution_count": 42,
   "metadata": {},
   "outputs": [
    {
     "data": {
      "text/html": [
       "<div>\n",
       "<style scoped>\n",
       "    .dataframe tbody tr th:only-of-type {\n",
       "        vertical-align: middle;\n",
       "    }\n",
       "\n",
       "    .dataframe tbody tr th {\n",
       "        vertical-align: top;\n",
       "    }\n",
       "\n",
       "    .dataframe thead th {\n",
       "        text-align: right;\n",
       "    }\n",
       "</style>\n",
       "<table border=\"1\" class=\"dataframe\">\n",
       "  <thead>\n",
       "    <tr style=\"text-align: right;\">\n",
       "      <th></th>\n",
       "      <th>sentence</th>\n",
       "      <th>task</th>\n",
       "      <th>assignee</th>\n",
       "    </tr>\n",
       "  </thead>\n",
       "  <tbody>\n",
       "    <tr>\n",
       "      <th>0</th>\n",
       "      <td>Sarah, please review the report</td>\n",
       "      <td>[please review the report]</td>\n",
       "      <td>[Sarah]</td>\n",
       "    </tr>\n",
       "    <tr>\n",
       "      <th>1</th>\n",
       "      <td>John, update the presentation slides</td>\n",
       "      <td>[update the presentation slides]</td>\n",
       "      <td>[John]</td>\n",
       "    </tr>\n",
       "    <tr>\n",
       "      <th>2</th>\n",
       "      <td>Michael, complete the coding tasks</td>\n",
       "      <td>[complete the coding tasks]</td>\n",
       "      <td>[Michael]</td>\n",
       "    </tr>\n",
       "    <tr>\n",
       "      <th>3</th>\n",
       "      <td>Emily, prepare the meeting agenda</td>\n",
       "      <td>[prepare the meeting agenda]</td>\n",
       "      <td>[Emily]</td>\n",
       "    </tr>\n",
       "    <tr>\n",
       "      <th>4</th>\n",
       "      <td>David, proofread the document</td>\n",
       "      <td>[proofread the document]</td>\n",
       "      <td>[David]</td>\n",
       "    </tr>\n",
       "  </tbody>\n",
       "</table>\n",
       "</div>"
      ],
      "text/plain": [
       "                               sentence                              task  \\\n",
       "0       Sarah, please review the report        [please review the report]   \n",
       "1  John, update the presentation slides  [update the presentation slides]   \n",
       "2    Michael, complete the coding tasks       [complete the coding tasks]   \n",
       "3     Emily, prepare the meeting agenda      [prepare the meeting agenda]   \n",
       "4         David, proofread the document          [proofread the document]   \n",
       "\n",
       "    assignee  \n",
       "0    [Sarah]  \n",
       "1     [John]  \n",
       "2  [Michael]  \n",
       "3    [Emily]  \n",
       "4    [David]  "
      ]
     },
     "execution_count": 42,
     "metadata": {},
     "output_type": "execute_result"
    }
   ],
   "source": [
    "df.head()"
   ]
  }
 ],
 "metadata": {
  "kernelspec": {
   "display_name": "work",
   "language": "python",
   "name": "python3"
  },
  "language_info": {
   "codemirror_mode": {
    "name": "ipython",
    "version": 3
   },
   "file_extension": ".py",
   "mimetype": "text/x-python",
   "name": "python",
   "nbconvert_exporter": "python",
   "pygments_lexer": "ipython3",
   "version": "3.10.12"
  },
  "orig_nbformat": 4
 },
 "nbformat": 4,
 "nbformat_minor": 2
}
